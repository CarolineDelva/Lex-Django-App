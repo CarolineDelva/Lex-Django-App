{
 "cells": [
  {
   "cell_type": "code",
   "execution_count": 17,
   "metadata": {},
   "outputs": [],
   "source": [
    "import pandas as pd\n",
    "import numpy as np"
   ]
  },
  {
   "cell_type": "code",
   "execution_count": 18,
   "metadata": {},
   "outputs": [],
   "source": [
    "def load_glove_words(filename):\n",
    "    \"\"\"Load a file containing a list of words as a python list\n",
    "    use case: data/words.txt\n",
    "    :param str filename: path/name to file to load\n",
    "    :rtype: list\n",
    "    \"\"\"\n",
    "\n",
    "    print(\"Loading Glove Model\")\n",
    "    f = open(filename,'r', encoding='utf8')\n",
    "    gloveModel = {}\n",
    "    for line in f:\n",
    "        splitLines = line.split()\n",
    "        word = splitLines[0]\n",
    "        wordEmbedding = np.array([float(value) for value in splitLines[1:]])\n",
    "        gloveModel[word] = wordEmbedding\n",
    "    return gloveModel"
   ]
  },
  {
   "cell_type": "code",
   "execution_count": 60,
   "metadata": {},
   "outputs": [],
   "source": [
    "from approject.cosinesimilarity import cosine_similarity"
   ]
  },
  {
   "cell_type": "code",
   "execution_count": 116,
   "metadata": {},
   "outputs": [],
   "source": [
    "import hashlib"
   ]
  },
  {
   "cell_type": "code",
   "execution_count": 131,
   "metadata": {},
   "outputs": [
    {
     "name": "stdout",
     "output_type": "stream",
     "text": [
      "3b5842d322-embeddings.pkl\n",
      "3b5842d322-embeddings.pkl-luigi-tmp-9210656682\n",
      "article_title\n",
      "e3e0fcca75-embeddings.pkl\n",
      "e3e0fcca75-embeddings.pkl-luigi-tmp-7912043872\n",
      "text\n"
     ]
    }
   ],
   "source": [
    "!ls data/results"
   ]
  },
  {
   "cell_type": "code",
   "execution_count": 133,
   "metadata": {},
   "outputs": [
    {
     "data": {
      "text/html": [
       "<div>\n",
       "<style scoped>\n",
       "    .dataframe tbody tr th:only-of-type {\n",
       "        vertical-align: middle;\n",
       "    }\n",
       "\n",
       "    .dataframe tbody tr th {\n",
       "        vertical-align: top;\n",
       "    }\n",
       "\n",
       "    .dataframe thead th {\n",
       "        text-align: right;\n",
       "    }\n",
       "</style>\n",
       "<table border=\"1\" class=\"dataframe\">\n",
       "  <thead>\n",
       "    <tr style=\"text-align: right;\">\n",
       "      <th></th>\n",
       "      <th>article_title</th>\n",
       "      <th>article_date</th>\n",
       "      <th>text</th>\n",
       "    </tr>\n",
       "  </thead>\n",
       "  <tbody>\n",
       "    <tr>\n",
       "      <th>151</th>\n",
       "      <td>No debate, no download: why I won't be taking ...</td>\n",
       "      <td>April 27 2020</td>\n",
       "      <td>COVIDSafe is built on legally shaky foundation...</td>\n",
       "    </tr>\n",
       "    <tr>\n",
       "      <th>65</th>\n",
       "      <td>Illinois Stay-at-Home Order Modified and Exten...</td>\n",
       "      <td>April 27 2020</td>\n",
       "      <td>Illinois has been under a “Stay-at-Home” Execu...</td>\n",
       "    </tr>\n",
       "    <tr>\n",
       "      <th>24</th>\n",
       "      <td>[FCRA] A Bridge Too Far: Ninth Circuit Rejects...</td>\n",
       "      <td>April 28 2020</td>\n",
       "      <td>Last week, in Luna v. Hansen &amp; Adkins Auto Tra...</td>\n",
       "    </tr>\n",
       "    <tr>\n",
       "      <th>127</th>\n",
       "      <td>What Expenses Can You Claim For Your Home Office?</td>\n",
       "      <td>April 27 2020</td>\n",
       "      <td>Among the many impacts of COVID-19, non-essent...</td>\n",
       "    </tr>\n",
       "    <tr>\n",
       "      <th>83</th>\n",
       "      <td>What You Should Know About COVID-19 and the AD...</td>\n",
       "      <td>April 28 2020</td>\n",
       "      <td>The EEOC recently updated its guidance, What Y...</td>\n",
       "    </tr>\n",
       "    <tr>\n",
       "      <th>9</th>\n",
       "      <td>U.S. Department of Labor Updates Q&amp;A on the Fa...</td>\n",
       "      <td>March 31 2020</td>\n",
       "      <td>Last week, we published a client alert on the ...</td>\n",
       "    </tr>\n",
       "    <tr>\n",
       "      <th>108</th>\n",
       "      <td>Episode 313: Is the international law of cyber...</td>\n",
       "      <td>April 28 2020</td>\n",
       "      <td>Click here to listen to the audio.\\nIn today’s...</td>\n",
       "    </tr>\n",
       "    <tr>\n",
       "      <th>40</th>\n",
       "      <td>COVID-19: Read This Before You Take the Temper...</td>\n",
       "      <td>April 28 2020</td>\n",
       "      <td>You want to reopen your place of business, and...</td>\n",
       "    </tr>\n",
       "    <tr>\n",
       "      <th>93</th>\n",
       "      <td>To Record or Not To Record, That is the Questi...</td>\n",
       "      <td>April 28 2020</td>\n",
       "      <td>The federal Occupational Safety and Health Act...</td>\n",
       "    </tr>\n",
       "    <tr>\n",
       "      <th>34</th>\n",
       "      <td>U.S. Department of Labor Issues Q&amp;A on the Fam...</td>\n",
       "      <td>March 25 2020</td>\n",
       "      <td>Last week, we published a client alert on the ...</td>\n",
       "    </tr>\n",
       "  </tbody>\n",
       "</table>\n",
       "</div>"
      ],
      "text/plain": [
       "                                         article_title   article_date  \\\n",
       "151  No debate, no download: why I won't be taking ...  April 27 2020   \n",
       "65   Illinois Stay-at-Home Order Modified and Exten...  April 27 2020   \n",
       "24   [FCRA] A Bridge Too Far: Ninth Circuit Rejects...  April 28 2020   \n",
       "127  What Expenses Can You Claim For Your Home Office?  April 27 2020   \n",
       "83   What You Should Know About COVID-19 and the AD...  April 28 2020   \n",
       "9    U.S. Department of Labor Updates Q&A on the Fa...  March 31 2020   \n",
       "108  Episode 313: Is the international law of cyber...  April 28 2020   \n",
       "40   COVID-19: Read This Before You Take the Temper...  April 28 2020   \n",
       "93   To Record or Not To Record, That is the Questi...  April 28 2020   \n",
       "34   U.S. Department of Labor Issues Q&A on the Fam...  March 25 2020   \n",
       "\n",
       "                                                  text  \n",
       "151  COVIDSafe is built on legally shaky foundation...  \n",
       "65   Illinois has been under a “Stay-at-Home” Execu...  \n",
       "24   Last week, in Luna v. Hansen & Adkins Auto Tra...  \n",
       "127  Among the many impacts of COVID-19, non-essent...  \n",
       "83   The EEOC recently updated its guidance, What Y...  \n",
       "9    Last week, we published a client alert on the ...  \n",
       "108  Click here to listen to the audio.\\nIn today’s...  \n",
       "40   You want to reopen your place of business, and...  \n",
       "93   The federal Occupational Safety and Health Act...  \n",
       "34   Last week, we published a client alert on the ...  "
      ]
     },
     "execution_count": 133,
     "metadata": {},
     "output_type": "execute_result"
    }
   ],
   "source": [
    "pd.read_pickle('data/results/article_title/top_10/e3e0fcca75-embeddings.pkl')"
   ]
  },
  {
   "cell_type": "code",
   "execution_count": 105,
   "metadata": {},
   "outputs": [],
   "source": [
    "cos_similarity = embedings.apply(lambda x: cosine_similarity(emb.embed_document(raw.article_title[0]), x))\n",
    "distances = 1 - cos_similarity"
   ]
  },
  {
   "cell_type": "code",
   "execution_count": 114,
   "metadata": {},
   "outputs": [
    {
     "data": {
      "text/html": [
       "<div>\n",
       "<style scoped>\n",
       "    .dataframe tbody tr th:only-of-type {\n",
       "        vertical-align: middle;\n",
       "    }\n",
       "\n",
       "    .dataframe tbody tr th {\n",
       "        vertical-align: top;\n",
       "    }\n",
       "\n",
       "    .dataframe thead th {\n",
       "        text-align: right;\n",
       "    }\n",
       "</style>\n",
       "<table border=\"1\" class=\"dataframe\">\n",
       "  <thead>\n",
       "    <tr style=\"text-align: right;\">\n",
       "      <th></th>\n",
       "      <th>article_title</th>\n",
       "      <th>article_date</th>\n",
       "      <th>text</th>\n",
       "    </tr>\n",
       "  </thead>\n",
       "  <tbody>\n",
       "    <tr>\n",
       "      <th>0</th>\n",
       "      <td>Open for business: how 'essential' businesses ...</td>\n",
       "      <td>April 29 2020</td>\n",
       "      <td>Introduction\\nMost states have issued some for...</td>\n",
       "    </tr>\n",
       "    <tr>\n",
       "      <th>56</th>\n",
       "      <td>Georgia Allows Most Businesses to Reopen to th...</td>\n",
       "      <td>April 28 2020</td>\n",
       "      <td>Reopening the doors of your business can also ...</td>\n",
       "    </tr>\n",
       "    <tr>\n",
       "      <th>51</th>\n",
       "      <td>What Businesses Can Do to Ease the Transition ...</td>\n",
       "      <td>April 28 2020</td>\n",
       "      <td>As governments start easing stay-at-home order...</td>\n",
       "    </tr>\n",
       "    <tr>\n",
       "      <th>95</th>\n",
       "      <td>Developing Leave Policies to Keep Up with the ...</td>\n",
       "      <td>April 17 2020</td>\n",
       "      <td>Many employers that did not previously have a ...</td>\n",
       "    </tr>\n",
       "    <tr>\n",
       "      <th>58</th>\n",
       "      <td>America Reopens: What Employers Need To Be Thi...</td>\n",
       "      <td>April 20 2020</td>\n",
       "      <td>On April 16, 2020, President Trump unveiled br...</td>\n",
       "    </tr>\n",
       "  </tbody>\n",
       "</table>\n",
       "</div>"
      ],
      "text/plain": [
       "                                        article_title   article_date  \\\n",
       "0   Open for business: how 'essential' businesses ...  April 29 2020   \n",
       "56  Georgia Allows Most Businesses to Reopen to th...  April 28 2020   \n",
       "51  What Businesses Can Do to Ease the Transition ...  April 28 2020   \n",
       "95  Developing Leave Policies to Keep Up with the ...  April 17 2020   \n",
       "58  America Reopens: What Employers Need To Be Thi...  April 20 2020   \n",
       "\n",
       "                                                 text  \n",
       "0   Introduction\\nMost states have issued some for...  \n",
       "56  Reopening the doors of your business can also ...  \n",
       "51  As governments start easing stay-at-home order...  \n",
       "95  Many employers that did not previously have a ...  \n",
       "58  On April 16, 2020, President Trump unveiled br...  "
      ]
     },
     "execution_count": 114,
     "metadata": {},
     "output_type": "execute_result"
    }
   ],
   "source": [
    "raw.iloc[distances.nsmallest(5).index]"
   ]
  },
  {
   "cell_type": "code",
   "execution_count": 95,
   "metadata": {},
   "outputs": [],
   "source": [
    "embedings = pd.read_pickle('data/clean/article_title-embeddings.pkl')"
   ]
  },
  {
   "cell_type": "code",
   "execution_count": 86,
   "metadata": {},
   "outputs": [],
   "source": [
    "raw = pd.read_pickle('data/raw/raw_articles.pkl')"
   ]
  },
  {
   "cell_type": "code",
   "execution_count": 89,
   "metadata": {},
   "outputs": [
    {
     "data": {
      "text/plain": [
       "'Class Notice Interference On The Defense: Court Penalizes Defendants And Attorney\\r Blog  Workplace Class Action Blog'"
      ]
     },
     "execution_count": 89,
     "metadata": {},
     "output_type": "execute_result"
    }
   ],
   "source": [
    "raw.iloc[11].article_title    "
   ]
  },
  {
   "cell_type": "code",
   "execution_count": 94,
   "metadata": {},
   "outputs": [
    {
     "data": {
      "text/plain": [
       "array([ -2.86015   ,  -0.85998   ,  -2.370395  ,   2.525222  ,\n",
       "         0.730721  ,   2.432129  ,  -0.627184  ,  -0.638371  ,\n",
       "        -1.18056123,  -2.43121   ,  -2.981668  ,   2.0320584 ,\n",
       "        -5.16771   ,  -0.2786595 ,   4.5014385 ,  -3.755069  ,\n",
       "        -2.360868  ,  -2.77337   ,  -0.1688858 ,  -4.079119  ,\n",
       "         3.592811  ,   3.063085  ,   0.13261   ,   3.026829  ,\n",
       "        -2.9788621 , -23.66595   ,  -0.16837   ,  -4.702991  ,\n",
       "        -1.1091335 ,  -2.338515  ,  36.99166   ,  -1.83837   ,\n",
       "        -4.191136  , -10.13997   ,  -0.66598807,  -1.1639621 ,\n",
       "         3.540493  ,  -3.6271557 ,  -3.030733  ,  -0.48614   ,\n",
       "         1.135703  ,   1.5535399 ,   4.2336233 ,   7.533709  ,\n",
       "        -1.268103  ,  -2.5334956 ,  -3.4231041 ,   3.126377  ,\n",
       "         2.265587  ,   4.805361  ])"
      ]
     },
     "execution_count": 94,
     "metadata": {},
     "output_type": "execute_result"
    }
   ],
   "source": [
    "emb = WordEmbedding(a)\n",
    "emb.embed_document(raw.iloc[11].article_title)"
   ]
  },
  {
   "cell_type": "code",
   "execution_count": 92,
   "metadata": {},
   "outputs": [],
   "source": [
    "import numpy as np \n",
    "import re\n",
    "\n",
    "\n",
    "\n",
    "### fix for new data \n",
    "\n",
    "class WordEmbedding(object):\n",
    "    def __init__(self, words):\n",
    "        # Initializeding with the word list\n",
    "        self.words = list(words.keys())\n",
    "        # Initializeding with the vectors\n",
    "        self.vecs = np.array(list(words.values()))\n",
    "\n",
    "    def __call__(self, word):\n",
    "        \"\"\"Embed a word\n",
    "\n",
    "        :returns: vector, or None if the word is outside of the vocabulary\n",
    "        :rtype: ndarray\n",
    "        \"\"\"\n",
    "        \n",
    "        try:\n",
    "            # Checking the index of the word list\n",
    "            idx = self.words.index(word)\n",
    "            # Return the vector of words in the list\n",
    "            return self.vecs[idx,:]\n",
    "            # Raise ValueError if word is outside of list\n",
    "        except ValueError:\n",
    "            return None\n",
    "\n",
    "\n",
    "    @classmethod\n",
    "    def from_files(cls, word_file):\n",
    "        \"\"\"Instantiate an embedding from files\n",
    "\n",
    "        Example::\n",
    "\n",
    "            embedding = WordEmbedding.from_files('words.txt', 'vecs.npy.gz')\n",
    "\n",
    "        :rtype: cls\n",
    "        \"\"\"\n",
    "        # Applying the class to the text file and verctors file\n",
    "        return cls(load_glove_words(word_file))\n",
    "    \n",
    "    \n",
    "    def tokenize(self, sentence):\n",
    "        \"\"\"\n",
    "        :params sentence_list: list of strings\n",
    "        :returns tok_sentences: list of list of tokens\n",
    "        \"\"\"\n",
    "        \n",
    "        tok_sentences = re.findall(r\"[\\w]+[']*[\\w]+|[\\w]+|[.,!?;]\", sentence.lower() ) \n",
    "                           \n",
    "        return tok_sentences\n",
    "\n",
    "    def embed_document(self, text):\n",
    "        \"\"\"Convert text to vector, by finding vectors for each word and combining\n",
    "\n",
    "        :param str document: the document (one or more words) to get a vector\n",
    "            representation for\n",
    "\n",
    "        :return: vector representation of document\n",
    "        :rtype: ndarray (1D)\n",
    "        \"\"\"\n",
    "        # Applying the tokenize function to the text\n",
    "        text = self.tokenize(text)\n",
    "        # Mapping the text \n",
    "        vec = map(self.__call__, text)\n",
    "        # Converting text to word\n",
    "        return np.sum([i for i in vec if i is not None], axis=0)\n",
    "  "
   ]
  },
  {
   "cell_type": "code",
   "execution_count": 19,
   "metadata": {},
   "outputs": [
    {
     "name": "stdout",
     "output_type": "stream",
     "text": [
      "Loading Glove Model\n"
     ]
    }
   ],
   "source": [
    "\n",
    "emb_path = 'data/glove.6B.50d.txt'\n",
    "a = load_glove_words(emb_path)"
   ]
  },
  {
   "cell_type": "code",
   "execution_count": 22,
   "metadata": {},
   "outputs": [
    {
     "data": {
      "text/plain": [
       "0.24968"
      ]
     },
     "execution_count": 22,
     "metadata": {},
     "output_type": "execute_result"
    }
   ],
   "source": [
    "a.get('the')"
   ]
  },
  {
   "cell_type": "code",
   "execution_count": null,
   "metadata": {},
   "outputs": [],
   "source": []
  }
 ],
 "metadata": {
  "kernelspec": {
   "display_name": "Python 3",
   "language": "python",
   "name": "python3"
  },
  "language_info": {
   "codemirror_mode": {
    "name": "ipython",
    "version": 3
   },
   "file_extension": ".py",
   "mimetype": "text/x-python",
   "name": "python",
   "nbconvert_exporter": "python",
   "pygments_lexer": "ipython3",
   "version": "3.7.3"
  }
 },
 "nbformat": 4,
 "nbformat_minor": 2
}
