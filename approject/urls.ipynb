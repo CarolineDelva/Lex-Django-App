{
 "cells": [
  {
   "cell_type": "code",
   "execution_count": null,
   "metadata": {},
   "outputs": [],
   "source": [
    "\n"
   ]
  },
  {
   "cell_type": "code",
   "execution_count": 1,
   "metadata": {},
   "outputs": [],
   "source": [
    "import win32com.client\n",
    "import re\n",
    "import time\n",
    "import requests \n",
    "\n",
    "\n",
    "from splinter import Browser \n",
    "from bs4 import BeautifulSoup\n",
    "import pandas as pd\n",
    "\n",
    "\n",
    "\n"
   ]
  },
  {
   "cell_type": "code",
   "execution_count": 2,
   "metadata": {},
   "outputs": [],
   "source": [
    "my_outlook = win32com.client.Dispatch(\"Outlook.Application\").GetNamespace(\"MAPI\")"
   ]
  },
  {
   "cell_type": "code",
   "execution_count": 3,
   "metadata": {},
   "outputs": [
    {
     "name": "stdout",
     "output_type": "stream",
     "text": [
      "https://eur01.safelinks.protection.outlook.com/?url=https%3A%2F%2Fwww.lexology.com%2Fnewsfeedemail%2Fhtml%3Fg%3Dcd0e6f28-edbf-49ae-894c-ac59699c5947%26d%3D2020-05-01&data=02%7C01%7C%7C214ba5a015b34e74d6ec08d7edbb5dc5%7C84df9e7fe9f640afb435aaaaaaaaaaaa%7C1%7C0%7C637239261301349941&sdata=u31kaeZReLe2Ugs2Du3vIVBXncFlESVLBMKS45dGopk%3D&reserved=0 2020-05-01\n",
      "https://eur03.safelinks.protection.outlook.com/?url=https%3A%2F%2Fwww.lexology.com%2Fnewsfeedemail%2Fhtml%3Fg%3Dcd0e6f28-edbf-49ae-894c-ac59699c5947%26d%3D2020-04-30&data=02%7C01%7C%7Ce2c06f5c44e54eb0ad0e08d7ecf1d7ff%7C84df9e7fe9f640afb435aaaaaaaaaaaa%7C1%7C0%7C637238395772752637&sdata=8qznFrzpas4ArNHhZvS5tRvx3dR8gdith6OnXjHFOLE%3D&reserved=0 2020-04-30\n"
     ]
    }
   ],
   "source": [
    "folder = my_outlook.GetDefaultFolder(6).Folders.Item(\"Lexology\")\n",
    "lex_urls = []\n",
    "for item in folder.Items:    \n",
    "    emailbody = item.body\n",
    "    lexology_date = item.SentOn.strftime(\"%Y-%m-%d\")\n",
    "    lexology_url = re.findall(r'[<]\\S*', emailbody)[0].strip('<').strip('>')\n",
    "    print(lexology_url, lexology_date)\n",
    "    lex_urls.append(lexology_url)\n",
    "  "
   ]
  },
  {
   "cell_type": "code",
   "execution_count": 4,
   "metadata": {},
   "outputs": [
    {
     "data": {
      "text/plain": [
       "['https://eur01.safelinks.protection.outlook.com/?url=https%3A%2F%2Fwww.lexology.com%2Fnewsfeedemail%2Fhtml%3Fg%3Dcd0e6f28-edbf-49ae-894c-ac59699c5947%26d%3D2020-05-01&data=02%7C01%7C%7C214ba5a015b34e74d6ec08d7edbb5dc5%7C84df9e7fe9f640afb435aaaaaaaaaaaa%7C1%7C0%7C637239261301349941&sdata=u31kaeZReLe2Ugs2Du3vIVBXncFlESVLBMKS45dGopk%3D&reserved=0',\n",
       " 'https://eur03.safelinks.protection.outlook.com/?url=https%3A%2F%2Fwww.lexology.com%2Fnewsfeedemail%2Fhtml%3Fg%3Dcd0e6f28-edbf-49ae-894c-ac59699c5947%26d%3D2020-04-30&data=02%7C01%7C%7Ce2c06f5c44e54eb0ad0e08d7ecf1d7ff%7C84df9e7fe9f640afb435aaaaaaaaaaaa%7C1%7C0%7C637238395772752637&sdata=8qznFrzpas4ArNHhZvS5tRvx3dR8gdith6OnXjHFOLE%3D&reserved=0']"
      ]
     },
     "execution_count": 4,
     "metadata": {},
     "output_type": "execute_result"
    }
   ],
   "source": [
    "lex_urls"
   ]
  },
  {
   "cell_type": "code",
   "execution_count": 5,
   "metadata": {},
   "outputs": [],
   "source": [
    "import luigi\n",
    "import pandas as pd"
   ]
  },
  {
   "cell_type": "code",
   "execution_count": 6,
   "metadata": {},
   "outputs": [],
   "source": [
    "def get_article(article_link):\n",
    "    r = requests.get(article_link) \n",
    "    html = r.text\n",
    "    #time.sleep(5)\n",
    "\n",
    "    #article title\n",
    "    article_title_soup = BeautifulSoup(html, 'html.parser')\n",
    "    #Soup_div = soup.find('div', class_='screenonly')\n",
    "    article_title = article_title_soup.select('h1')[0]\n",
    "    title = article_title.text.strip()\n",
    "\n",
    "    # article date \n",
    "    Soup_date = article_title_soup.find('div', class_='article-attributes')\n",
    "    article_date = Soup_date.find('span', class_='publication')\n",
    "    article_date = article_date.text.strip()\n",
    "\n",
    "\n",
    "    article_div = article_title_soup.find('div', class_='article-body')\n",
    "    article = article_div.text.strip()\n",
    "    return [title, article_date, article]\n",
    "    \n",
    "\n",
    "class DownloadArticle(luigi.Task):\n",
    "\n",
    "    lexology_urls = luigi.ListParameter()# luigi parameter\n",
    "    def run(self):\n",
    "        article_file = []\n",
    "        for lexology_url in self.lexology_urls:\n",
    "            r = requests.get(lexology_url)\n",
    "            html = r.text\n",
    "            soup = BeautifulSoup(html, 'html.parser')\n",
    "            article_header = soup.select('h4')\n",
    "            article_link_list = []\n",
    "            for links in article_header:\n",
    "                article_links = links.find_all('a', href=True)\n",
    "                for link in article_links: \n",
    "                    article_link = link.get('href')\n",
    "                    article_link_list.append(article_link)\n",
    "                    #print(article_link_list)\n",
    "            text_dict = {}\n",
    "            all_text = []\n",
    "            for article_link in article_link_list:\n",
    "                try: \n",
    "                    text = get_article(article_link)\n",
    "                    all_text.append(text)\n",
    "                except Exception as e:\n",
    "                    print(f'error in {article_link}, {e}')\n",
    "\n",
    "                \n",
    "        df = pd.DataFrame(all_text, columns=['article_title','article_date','text'])\n",
    "        df.to_pickle(self.output().open('w').path)\n",
    "    \n",
    "    def output(self):\n",
    "        return luigi.LocalTarget(f'data/raw/raw_articles.pkl')"
   ]
  },
  {
   "cell_type": "code",
   "execution_count": 7,
   "metadata": {},
   "outputs": [
    {
     "data": {
      "text/plain": [
       "('https://eur03.safelinks.protection.outlook.com/?url=https%3A%2F%2Fwww.lexology.com%2Fnewsfeedemail%2Fhtml%3Fg%3Dcd0e6f28-edbf-49ae-894c-ac59699c5947%26d%3D2020-04-30&data=02%7C01%7C%7Ce2c06f5c44e54eb0ad0e08d7ecf1d7ff%7C84df9e7fe9f640afb435aaaaaaaaaaaa%7C1%7C0%7C637238395772752637&sdata=8qznFrzpas4ArNHhZvS5tRvx3dR8gdith6OnXjHFOLE%3D&reserved=0',\n",
       " '2020-04-30')"
      ]
     },
     "execution_count": 7,
     "metadata": {},
     "output_type": "execute_result"
    }
   ],
   "source": [
    "lexology_url, lexology_date"
   ]
  },
  {
   "cell_type": "code",
   "execution_count": 8,
   "metadata": {},
   "outputs": [
    {
     "name": "stderr",
     "output_type": "stream",
     "text": [
      "DEBUG: Checking if DownloadArticle(lexology_urls=[\"https://eur01.safelinks.protection.outlook.com/?url=https%3A%2F%2Fwww.lexology.com%2Fnewsfeedemail%2Fhtml%3Fg%3Dcd0e6f28-edbf-49ae-894c-ac59699c5947%26d%3D2020-05-01&data=02%7C01%7C%7C214ba5a015b34e74d6ec08d7edbb5dc5%7C84df9e7fe9f640afb435aaaaaaaaaaaa%7C1%7C0%7C637239261301349941&sdata=u31kaeZReLe2Ugs2Du3vIVBXncFlESVLBMKS45dGopk%3D&reserved=0\", \"https://eur03.safelinks.protection.outlook.com/?url=https%3A%2F%2Fwww.lexology.com%2Fnewsfeedemail%2Fhtml%3Fg%3Dcd0e6f28-edbf-49ae-894c-ac59699c5947%26d%3D2020-04-30&data=02%7C01%7C%7Ce2c06f5c44e54eb0ad0e08d7ecf1d7ff%7C84df9e7fe9f640afb435aaaaaaaaaaaa%7C1%7C0%7C637238395772752637&sdata=8qznFrzpas4ArNHhZvS5tRvx3dR8gdith6OnXjHFOLE%3D&reserved=0\"]) is complete\n",
      "INFO: Informed scheduler that task   DownloadArticle___https___eur01__4b8b2aaa83   has status   PENDING\n",
      "INFO: Done scheduling tasks\n",
      "INFO: Running Worker with 1 processes\n",
      "DEBUG: Asking scheduler for work...\n",
      "DEBUG: Pending tasks: 1\n",
      "INFO: [pid 14644] Worker Worker(salt=559441531, workers=1, host=DESKTOP-H7JG9MQ, username=Carol, pid=14644) running   DownloadArticle(lexology_urls=[\"https://eur01.safelinks.protection.outlook.com/?url=https%3A%2F%2Fwww.lexology.com%2Fnewsfeedemail%2Fhtml%3Fg%3Dcd0e6f28-edbf-49ae-894c-ac59699c5947%26d%3D2020-05-01&data=02%7C01%7C%7C214ba5a015b34e74d6ec08d7edbb5dc5%7C84df9e7fe9f640afb435aaaaaaaaaaaa%7C1%7C0%7C637239261301349941&sdata=u31kaeZReLe2Ugs2Du3vIVBXncFlESVLBMKS45dGopk%3D&reserved=0\", \"https://eur03.safelinks.protection.outlook.com/?url=https%3A%2F%2Fwww.lexology.com%2Fnewsfeedemail%2Fhtml%3Fg%3Dcd0e6f28-edbf-49ae-894c-ac59699c5947%26d%3D2020-04-30&data=02%7C01%7C%7Ce2c06f5c44e54eb0ad0e08d7ecf1d7ff%7C84df9e7fe9f640afb435aaaaaaaaaaaa%7C1%7C0%7C637238395772752637&sdata=8qznFrzpas4ArNHhZvS5tRvx3dR8gdith6OnXjHFOLE%3D&reserved=0\"])\n"
     ]
    },
    {
     "name": "stdout",
     "output_type": "stream",
     "text": [
      "error in https://www.lexology.com/r.ashx?i=7169559&l=8X3MHP2, 'NoneType' object has no attribute 'find'\n",
      "error in https://www.lexology.com/r.ashx?i=7169559&l=8X3MHTN, 'NoneType' object has no attribute 'find'\n",
      "error in https://www.lexology.com/r.ashx?i=7169559&l=8X5ADET, 'NoneType' object has no attribute 'find'\n",
      "error in https://www.lexology.com/r.ashx?i=7169559&l=8X5E8JQ, 'NoneType' object has no attribute 'find'\n",
      "error in https://www.lexology.com/r.ashx?i=7169559&l=8X41K8A, 'NoneType' object has no attribute 'find'\n",
      "error in https://www.lexology.com/r.ashx?i=7169559&l=8X41K8K, 'NoneType' object has no attribute 'find'\n",
      "error in https://www.lexology.com/r.ashx?i=7169559&l=8X41K8N, 'NoneType' object has no attribute 'find'\n",
      "error in https://www.lexology.com/r.ashx?i=7169559&l=8X41K8R, 'NoneType' object has no attribute 'find'\n"
     ]
    },
    {
     "name": "stderr",
     "output_type": "stream",
     "text": [
      "Exception ignored in: <function TextWrapper.__del__ at 0x000002D1F8E72488>\n",
      "Traceback (most recent call last):\n",
      "  File \"C:\\Users\\Carol\\AppData\\Roaming\\Python\\Python37\\site-packages\\luigi\\format.py\", line 415, in __del__\n",
      "    self._stream.__del__(*args)\n",
      "  File \"C:\\Users\\Carol\\AppData\\Roaming\\Python\\Python37\\site-packages\\luigi\\target.py\", line 340, in __del__\n",
      "    os.remove(self.tmp_path)\n",
      "PermissionError: [WinError 32] The process cannot access the file because it is being used by another process: 'data/raw/raw_articles.pkl-luigi-tmp-3801027528'\n",
      "Exception ignored in: <function AtomicLocalFile.__del__ at 0x000002D1F8E63510>\n",
      "Traceback (most recent call last):\n",
      "  File \"C:\\Users\\Carol\\AppData\\Roaming\\Python\\Python37\\site-packages\\luigi\\target.py\", line 340, in __del__\n",
      "    os.remove(self.tmp_path)\n",
      "PermissionError: [WinError 32] The process cannot access the file because it is being used by another process: 'data/raw/raw_articles.pkl-luigi-tmp-3801027528'\n",
      "INFO: [pid 14644] Worker Worker(salt=559441531, workers=1, host=DESKTOP-H7JG9MQ, username=Carol, pid=14644) done      DownloadArticle(lexology_urls=[\"https://eur01.safelinks.protection.outlook.com/?url=https%3A%2F%2Fwww.lexology.com%2Fnewsfeedemail%2Fhtml%3Fg%3Dcd0e6f28-edbf-49ae-894c-ac59699c5947%26d%3D2020-05-01&data=02%7C01%7C%7C214ba5a015b34e74d6ec08d7edbb5dc5%7C84df9e7fe9f640afb435aaaaaaaaaaaa%7C1%7C0%7C637239261301349941&sdata=u31kaeZReLe2Ugs2Du3vIVBXncFlESVLBMKS45dGopk%3D&reserved=0\", \"https://eur03.safelinks.protection.outlook.com/?url=https%3A%2F%2Fwww.lexology.com%2Fnewsfeedemail%2Fhtml%3Fg%3Dcd0e6f28-edbf-49ae-894c-ac59699c5947%26d%3D2020-04-30&data=02%7C01%7C%7Ce2c06f5c44e54eb0ad0e08d7ecf1d7ff%7C84df9e7fe9f640afb435aaaaaaaaaaaa%7C1%7C0%7C637238395772752637&sdata=8qznFrzpas4ArNHhZvS5tRvx3dR8gdith6OnXjHFOLE%3D&reserved=0\"])\n",
      "DEBUG: 1 running tasks, waiting for next task to finish\n",
      "INFO: Informed scheduler that task   DownloadArticle___https___eur01__4b8b2aaa83   has status   DONE\n",
      "DEBUG: Asking scheduler for work...\n",
      "DEBUG: Done\n",
      "DEBUG: There are no more tasks to run at this time\n",
      "INFO: Worker Worker(salt=559441531, workers=1, host=DESKTOP-H7JG9MQ, username=Carol, pid=14644) was stopped. Shutting down Keep-Alive thread\n",
      "INFO: \n",
      "===== Luigi Execution Summary =====\n",
      "\n",
      "Scheduled 1 tasks of which:\n",
      "* 1 ran successfully:\n",
      "    - 1 DownloadArticle(...)\n",
      "\n",
      "This progress looks :) because there were no failed tasks or missing dependencies\n",
      "\n",
      "===== Luigi Execution Summary =====\n",
      "\n"
     ]
    },
    {
     "data": {
      "text/plain": [
       "True"
      ]
     },
     "execution_count": 8,
     "metadata": {},
     "output_type": "execute_result"
    }
   ],
   "source": [
    "luigi.build([DownloadArticle(lexology_urls=lex_urls)], local_scheduler=True)"
   ]
  },
  {
   "cell_type": "code",
   "execution_count": 9,
   "metadata": {},
   "outputs": [
    {
     "ename": "FileNotFoundError",
     "evalue": "[Errno 2] No such file or directory: '../data/raw/raw_articles.pkl'",
     "output_type": "error",
     "traceback": [
      "\u001b[1;31m---------------------------------------------------------------------------\u001b[0m",
      "\u001b[1;31mFileNotFoundError\u001b[0m                         Traceback (most recent call last)",
      "\u001b[1;32m<ipython-input-9-cf87895be5fc>\u001b[0m in \u001b[0;36m<module>\u001b[1;34m\u001b[0m\n\u001b[1;32m----> 1\u001b[1;33m \u001b[0mpd\u001b[0m\u001b[1;33m.\u001b[0m\u001b[0mread_pickle\u001b[0m\u001b[1;33m(\u001b[0m\u001b[1;34m'../data/raw/raw_articles.pkl'\u001b[0m\u001b[1;33m)\u001b[0m\u001b[1;33m\u001b[0m\u001b[1;33m\u001b[0m\u001b[0m\n\u001b[0m",
      "\u001b[1;32m~\\Anaconda3\\lib\\site-packages\\pandas\\io\\pickle.py\u001b[0m in \u001b[0;36mread_pickle\u001b[1;34m(filepath_or_buffer, compression)\u001b[0m\n\u001b[0;32m    168\u001b[0m     \u001b[1;32mif\u001b[0m \u001b[1;32mnot\u001b[0m \u001b[0misinstance\u001b[0m\u001b[1;33m(\u001b[0m\u001b[0mfp_or_buf\u001b[0m\u001b[1;33m,\u001b[0m \u001b[0mstr\u001b[0m\u001b[1;33m)\u001b[0m \u001b[1;32mand\u001b[0m \u001b[0mcompression\u001b[0m \u001b[1;33m==\u001b[0m \u001b[1;34m\"infer\"\u001b[0m\u001b[1;33m:\u001b[0m\u001b[1;33m\u001b[0m\u001b[1;33m\u001b[0m\u001b[0m\n\u001b[0;32m    169\u001b[0m         \u001b[0mcompression\u001b[0m \u001b[1;33m=\u001b[0m \u001b[1;32mNone\u001b[0m\u001b[1;33m\u001b[0m\u001b[1;33m\u001b[0m\u001b[0m\n\u001b[1;32m--> 170\u001b[1;33m     \u001b[0mf\u001b[0m\u001b[1;33m,\u001b[0m \u001b[0mfh\u001b[0m \u001b[1;33m=\u001b[0m \u001b[0mget_handle\u001b[0m\u001b[1;33m(\u001b[0m\u001b[0mfp_or_buf\u001b[0m\u001b[1;33m,\u001b[0m \u001b[1;34m\"rb\"\u001b[0m\u001b[1;33m,\u001b[0m \u001b[0mcompression\u001b[0m\u001b[1;33m=\u001b[0m\u001b[0mcompression\u001b[0m\u001b[1;33m,\u001b[0m \u001b[0mis_text\u001b[0m\u001b[1;33m=\u001b[0m\u001b[1;32mFalse\u001b[0m\u001b[1;33m)\u001b[0m\u001b[1;33m\u001b[0m\u001b[1;33m\u001b[0m\u001b[0m\n\u001b[0m\u001b[0;32m    171\u001b[0m \u001b[1;33m\u001b[0m\u001b[0m\n\u001b[0;32m    172\u001b[0m     \u001b[1;31m# 1) try standard library Pickle\u001b[0m\u001b[1;33m\u001b[0m\u001b[1;33m\u001b[0m\u001b[1;33m\u001b[0m\u001b[0m\n",
      "\u001b[1;32m~\\Anaconda3\\lib\\site-packages\\pandas\\io\\common.py\u001b[0m in \u001b[0;36mget_handle\u001b[1;34m(path_or_buf, mode, encoding, compression, memory_map, is_text)\u001b[0m\n\u001b[0;32m    432\u001b[0m         \u001b[1;32melse\u001b[0m\u001b[1;33m:\u001b[0m\u001b[1;33m\u001b[0m\u001b[1;33m\u001b[0m\u001b[0m\n\u001b[0;32m    433\u001b[0m             \u001b[1;31m# Binary mode\u001b[0m\u001b[1;33m\u001b[0m\u001b[1;33m\u001b[0m\u001b[1;33m\u001b[0m\u001b[0m\n\u001b[1;32m--> 434\u001b[1;33m             \u001b[0mf\u001b[0m \u001b[1;33m=\u001b[0m \u001b[0mopen\u001b[0m\u001b[1;33m(\u001b[0m\u001b[0mpath_or_buf\u001b[0m\u001b[1;33m,\u001b[0m \u001b[0mmode\u001b[0m\u001b[1;33m)\u001b[0m\u001b[1;33m\u001b[0m\u001b[1;33m\u001b[0m\u001b[0m\n\u001b[0m\u001b[0;32m    435\u001b[0m         \u001b[0mhandles\u001b[0m\u001b[1;33m.\u001b[0m\u001b[0mappend\u001b[0m\u001b[1;33m(\u001b[0m\u001b[0mf\u001b[0m\u001b[1;33m)\u001b[0m\u001b[1;33m\u001b[0m\u001b[1;33m\u001b[0m\u001b[0m\n\u001b[0;32m    436\u001b[0m \u001b[1;33m\u001b[0m\u001b[0m\n",
      "\u001b[1;31mFileNotFoundError\u001b[0m: [Errno 2] No such file or directory: '../data/raw/raw_articles.pkl'"
     ]
    }
   ],
   "source": [
    "pd.read_pickle('../data/raw/raw_articles.pkl')"
   ]
  },
  {
   "cell_type": "code",
   "execution_count": null,
   "metadata": {},
   "outputs": [],
   "source": [
    "class PrepareData(luigi.Task):\n",
    "\n",
    "    lexology_url = luigi.ListParameter()\n",
    "\n",
    "    def requires(self):\n",
    "        return DownloadArticle(lexology_urls=lexology_ursl)\n",
    "        \n",
    "    def run(self):\n",
    "        df = pd.read_pickle(self.input().path)\n",
    "        \n",
    "        #Save final result.\n",
    "        #df.to_pickle(self.output().open('w').path)\n",
    "    \n",
    "    def output(self):\n",
    "        return luigi.LocalTarget(f'data/clean/clean_articles.pkl')"
   ]
  }
 ],
 "metadata": {
  "kernelspec": {
   "display_name": "Python 3",
   "language": "python",
   "name": "python3"
  },
  "language_info": {
   "codemirror_mode": {
    "name": "ipython",
    "version": 3
   },
   "file_extension": ".py",
   "mimetype": "text/x-python",
   "name": "python",
   "nbconvert_exporter": "python",
   "pygments_lexer": "ipython3",
   "version": "3.7.3"
  }
 },
 "nbformat": 4,
 "nbformat_minor": 2
}
